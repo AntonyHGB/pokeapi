{
 "cells": [
  {
   "cell_type": "markdown",
   "source": [
    "Importando as bibliotecas "
   ],
   "metadata": {}
  },
  {
   "cell_type": "code",
   "execution_count": 1,
   "source": [
    "import pandas as pd\n",
    "import datetime\n",
    "import pokebase as pb\n",
    "import requests\n",
    "import urllib.request, json"
   ],
   "outputs": [],
   "metadata": {}
  },
  {
   "cell_type": "markdown",
   "source": [
    "Lendo o CSV"
   ],
   "metadata": {}
  },
  {
   "cell_type": "code",
   "execution_count": 2,
   "source": [
    "df = pd.read_csv('data.csv',sep=';')"
   ],
   "outputs": [],
   "metadata": {}
  },
  {
   "cell_type": "markdown",
   "source": [
    "Respondendo a primeira pergunta"
   ],
   "metadata": {}
  },
  {
   "cell_type": "code",
   "execution_count": 3,
   "source": [
    "df.groupby(['channel']).size()"
   ],
   "outputs": [
    {
     "output_type": "execute_result",
     "data": {
      "text/plain": [
       "channel\n",
       "facebook messeger    102798\n",
       "instagram            103831\n",
       "sms                  100973\n",
       "telegram             105212\n",
       "whatsapp             103828\n",
       "dtype: int64"
      ]
     },
     "metadata": {},
     "execution_count": 3
    }
   ],
   "metadata": {}
  },
  {
   "cell_type": "markdown",
   "source": [
    "Respondendo a segunda pergunta "
   ],
   "metadata": {}
  },
  {
   "cell_type": "code",
   "execution_count": 4,
   "source": [
    "df['datetime'] = [datetime.datetime.fromtimestamp(row).strftime('%Y-%m-%d') for row in df['timestamp']]\n",
    "df.groupby(['datetime']).size().sort_values(0).tail(1)"
   ],
   "outputs": [
    {
     "output_type": "stream",
     "name": "stderr",
     "text": [
      "/tmp/ipykernel_15218/1349733535.py:2: FutureWarning: In a future version of pandas all arguments of Series.sort_values will be keyword-only\n",
      "  df.groupby(['datetime']).size().sort_values(0).tail(1)\n"
     ]
    },
    {
     "output_type": "execute_result",
     "data": {
      "text/plain": [
       "datetime\n",
       "2021-04-26    8971\n",
       "dtype: int64"
      ]
     },
     "metadata": {},
     "execution_count": 4
    }
   ],
   "metadata": {}
  },
  {
   "cell_type": "code",
   "execution_count": 5,
   "source": [
    "df.size"
   ],
   "outputs": [
    {
     "output_type": "execute_result",
     "data": {
      "text/plain": [
       "4649778"
      ]
     },
     "metadata": {},
     "execution_count": 5
    }
   ],
   "metadata": {}
  },
  {
   "cell_type": "code",
   "execution_count": 6,
   "source": [
    "df['messageText'].unique"
   ],
   "outputs": [
    {
     "output_type": "execute_result",
     "data": {
      "text/plain": [
       "<bound method Series.unique of 0                   começar\n",
       "1                       olá\n",
       "2                   começar\n",
       "3                       Olá\n",
       "4                       ola\n",
       "                ...        \n",
       "516637         Enzo Gabriel\n",
       "516638    Qual a sua idade?\n",
       "516639               marabá\n",
       "516640          rotom-frost\n",
       "516641                   25\n",
       "Name: messageText, Length: 516642, dtype: object>"
      ]
     },
     "metadata": {},
     "execution_count": 6
    }
   ],
   "metadata": {}
  },
  {
   "cell_type": "code",
   "execution_count": 7,
   "source": [
    "df.head(5)"
   ],
   "outputs": [
    {
     "output_type": "execute_result",
     "data": {
      "text/html": [
       "<div>\n",
       "<style scoped>\n",
       "    .dataframe tbody tr th:only-of-type {\n",
       "        vertical-align: middle;\n",
       "    }\n",
       "\n",
       "    .dataframe tbody tr th {\n",
       "        vertical-align: top;\n",
       "    }\n",
       "\n",
       "    .dataframe thead th {\n",
       "        text-align: right;\n",
       "    }\n",
       "</style>\n",
       "<table border=\"1\" class=\"dataframe\">\n",
       "  <thead>\n",
       "    <tr style=\"text-align: right;\">\n",
       "      <th></th>\n",
       "      <th>timestamp</th>\n",
       "      <th>messageId</th>\n",
       "      <th>conversationId</th>\n",
       "      <th>userId</th>\n",
       "      <th>messageText</th>\n",
       "      <th>channel</th>\n",
       "      <th>botId</th>\n",
       "      <th>source</th>\n",
       "      <th>datetime</th>\n",
       "    </tr>\n",
       "  </thead>\n",
       "  <tbody>\n",
       "    <tr>\n",
       "      <th>0</th>\n",
       "      <td>1.614568e+09</td>\n",
       "      <td>210c2f5f-f7b2-4061-82bb-2b33b7200e4f</td>\n",
       "      <td>40b54398-77db-4810-b707-969bda09490b</td>\n",
       "      <td>bf6a4d079b51b73fddc73a8e0fdd1dd3</td>\n",
       "      <td>começar</td>\n",
       "      <td>whatsapp</td>\n",
       "      <td>1567</td>\n",
       "      <td>user</td>\n",
       "      <td>2021-03-01</td>\n",
       "    </tr>\n",
       "    <tr>\n",
       "      <th>1</th>\n",
       "      <td>1.614568e+09</td>\n",
       "      <td>dd331cbb-4e0c-4f18-8925-b3c5339f8e07</td>\n",
       "      <td>b68806b9-7e79-462d-b6a8-ceb9004ae9d3</td>\n",
       "      <td>b0e978871c376ef13cde0f52d9e4297d</td>\n",
       "      <td>olá</td>\n",
       "      <td>telegram</td>\n",
       "      <td>1567</td>\n",
       "      <td>user</td>\n",
       "      <td>2021-03-01</td>\n",
       "    </tr>\n",
       "    <tr>\n",
       "      <th>2</th>\n",
       "      <td>1.614568e+09</td>\n",
       "      <td>bb0c5d93-ffc2-4009-933a-46fce9b21a79</td>\n",
       "      <td>8061e54e-6a39-405e-af2b-a40def0cc1af</td>\n",
       "      <td>73c659979af4ae8dffeb1abdbe8f716a</td>\n",
       "      <td>começar</td>\n",
       "      <td>telegram</td>\n",
       "      <td>1567</td>\n",
       "      <td>user</td>\n",
       "      <td>2021-03-01</td>\n",
       "    </tr>\n",
       "    <tr>\n",
       "      <th>3</th>\n",
       "      <td>1.614568e+09</td>\n",
       "      <td>4dc4a6b7-535e-4c24-bd59-b9d0bab509e3</td>\n",
       "      <td>23ba09a6-b744-4666-8103-fd76318ff3fd</td>\n",
       "      <td>a0ab3c262eda9b9a1206758045c86c0f</td>\n",
       "      <td>Olá</td>\n",
       "      <td>telegram</td>\n",
       "      <td>1567</td>\n",
       "      <td>user</td>\n",
       "      <td>2021-03-01</td>\n",
       "    </tr>\n",
       "    <tr>\n",
       "      <th>4</th>\n",
       "      <td>1.614568e+09</td>\n",
       "      <td>643f087f-6a79-4fb3-b6f4-9b886b0ef07a</td>\n",
       "      <td>1389b06a-1bdc-4654-a076-871c949d53f8</td>\n",
       "      <td>ea0ebd01ce3123bf447eb468aa9cd40f</td>\n",
       "      <td>ola</td>\n",
       "      <td>facebook messeger</td>\n",
       "      <td>1567</td>\n",
       "      <td>user</td>\n",
       "      <td>2021-03-01</td>\n",
       "    </tr>\n",
       "  </tbody>\n",
       "</table>\n",
       "</div>"
      ],
      "text/plain": [
       "      timestamp                             messageId  \\\n",
       "0  1.614568e+09  210c2f5f-f7b2-4061-82bb-2b33b7200e4f   \n",
       "1  1.614568e+09  dd331cbb-4e0c-4f18-8925-b3c5339f8e07   \n",
       "2  1.614568e+09  bb0c5d93-ffc2-4009-933a-46fce9b21a79   \n",
       "3  1.614568e+09  4dc4a6b7-535e-4c24-bd59-b9d0bab509e3   \n",
       "4  1.614568e+09  643f087f-6a79-4fb3-b6f4-9b886b0ef07a   \n",
       "\n",
       "                         conversationId                            userId  \\\n",
       "0  40b54398-77db-4810-b707-969bda09490b  bf6a4d079b51b73fddc73a8e0fdd1dd3   \n",
       "1  b68806b9-7e79-462d-b6a8-ceb9004ae9d3  b0e978871c376ef13cde0f52d9e4297d   \n",
       "2  8061e54e-6a39-405e-af2b-a40def0cc1af  73c659979af4ae8dffeb1abdbe8f716a   \n",
       "3  23ba09a6-b744-4666-8103-fd76318ff3fd  a0ab3c262eda9b9a1206758045c86c0f   \n",
       "4  1389b06a-1bdc-4654-a076-871c949d53f8  ea0ebd01ce3123bf447eb468aa9cd40f   \n",
       "\n",
       "  messageText            channel  botId source    datetime  \n",
       "0     começar           whatsapp   1567   user  2021-03-01  \n",
       "1         olá           telegram   1567   user  2021-03-01  \n",
       "2     começar           telegram   1567   user  2021-03-01  \n",
       "3         Olá           telegram   1567   user  2021-03-01  \n",
       "4         ola  facebook messeger   1567   user  2021-03-01  "
      ]
     },
     "metadata": {},
     "execution_count": 7
    }
   ],
   "metadata": {}
  },
  {
   "cell_type": "code",
   "execution_count": 8,
   "source": [
    "i = 1 \n",
    "while i <898:\n",
    "    poke = pb.SpriteResource('pokemon', i, is_default = 'true')\n",
    "    print(poke.url)\n",
    "    i += i"
   ],
   "outputs": [
    {
     "output_type": "stream",
     "name": "stdout",
     "text": [
      "https://raw.githubusercontent.com/PokeAPI/sprites/master/sprites/pokemon/1.png\n",
      "https://raw.githubusercontent.com/PokeAPI/sprites/master/sprites/pokemon/2.png\n",
      "https://raw.githubusercontent.com/PokeAPI/sprites/master/sprites/pokemon/4.png\n",
      "https://raw.githubusercontent.com/PokeAPI/sprites/master/sprites/pokemon/8.png\n",
      "https://raw.githubusercontent.com/PokeAPI/sprites/master/sprites/pokemon/16.png\n",
      "https://raw.githubusercontent.com/PokeAPI/sprites/master/sprites/pokemon/32.png\n",
      "https://raw.githubusercontent.com/PokeAPI/sprites/master/sprites/pokemon/64.png\n",
      "https://raw.githubusercontent.com/PokeAPI/sprites/master/sprites/pokemon/128.png\n",
      "https://raw.githubusercontent.com/PokeAPI/sprites/master/sprites/pokemon/256.png\n",
      "https://raw.githubusercontent.com/PokeAPI/sprites/master/sprites/pokemon/512.png\n"
     ]
    }
   ],
   "metadata": {}
  },
  {
   "cell_type": "code",
   "execution_count": 9,
   "source": [
    "i = 1\n",
    "while i <=898:\n",
    "    r = requests.get(f'https://pokeapi.co/api/v2/pokemon/{i}').text\n",
    "    json_data = json.loads(r)\n",
    "    if ['is_default']:\n",
    "        print (\"é\")\n",
    "    else:\n",
    "        print(\"num é \")\n",
    "    i += i\n"
   ],
   "outputs": [
    {
     "output_type": "stream",
     "name": "stdout",
     "text": [
      "é\n",
      "é\n",
      "é\n",
      "é\n",
      "é\n",
      "é\n",
      "é\n",
      "é\n",
      "é\n",
      "é\n"
     ]
    }
   ],
   "metadata": {}
  }
 ],
 "metadata": {
  "orig_nbformat": 4,
  "language_info": {
   "name": "python",
   "version": "3.8.10",
   "mimetype": "text/x-python",
   "codemirror_mode": {
    "name": "ipython",
    "version": 3
   },
   "pygments_lexer": "ipython3",
   "nbconvert_exporter": "python",
   "file_extension": ".py"
  },
  "kernelspec": {
   "name": "python3",
   "display_name": "Python 3.8.10 64-bit ('poke': venv)"
  },
  "interpreter": {
   "hash": "1f01a4209b3390b692adccfbd40520e8a63a2835f786db97d66ec4915c483e51"
  }
 },
 "nbformat": 4,
 "nbformat_minor": 2
}